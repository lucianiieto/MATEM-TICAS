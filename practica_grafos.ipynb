{
  "nbformat": 4,
  "nbformat_minor": 0,
  "metadata": {
    "colab": {
      "provenance": [],
      "include_colab_link": true
    },
    "kernelspec": {
      "name": "python3",
      "display_name": "Python 3"
    },
    "language_info": {
      "name": "python"
    }
  },
  "cells": [
    {
      "cell_type": "markdown",
      "metadata": {
        "id": "view-in-github",
        "colab_type": "text"
      },
      "source": [
        "<a href=\"https://colab.research.google.com/github/lucianiieto/matematicas/blob/main/practica_grafos.ipynb\" target=\"_parent\"><img src=\"https://colab.research.google.com/assets/colab-badge.svg\" alt=\"Open In Colab\"/></a>"
      ]
    },
    {
      "cell_type": "markdown",
      "source": [
        "# Práctica 2. Grafos"
      ],
      "metadata": {
        "id": "s28_pETXts4V"
      }
    },
    {
      "cell_type": "markdown",
      "source": [
        "## Práctica 2.1\n",
        "**Algoritmo de Dijkstra**\n",
        "\n",
        "1. Mira estos vídeos:\n",
        " * [Algoritmo de DIJKSTRA ruta corta](https://youtu.be/6rl0ghgPfK0)\n",
        " * [Ruta mas corta en una red, algoritmo de Dijkstra](https://youtu.be/rh02c7v3EKY)\n",
        "2. ¿Qué utilidad tiene el algoritmo?\n",
        "3. Explique el algoritmo.\n",
        "4. De un ejemplo de un grafo resuelto con el algoritmo de Dijkstra.\n",
        "* Muestre la imagen del grafo con sus:\n",
        "  - nodos\n",
        "  - aristas (con flecha si son orientadas)\n",
        "  - pesos (distancias o costes)\n",
        "* Muestre nuevamente la imagen del grafo pero en esta ocasión con la solución."
      ],
      "metadata": {
        "id": "6Gr8mAWDxCdq"
      }
    },
    {
      "cell_type": "markdown",
      "source": [
        "1. La utilidad del **algoritmo de Dijkstra** es encontrar el camino más corto dado un vértice de origen hacia el resto de vértices de un grafo que cuenta con distintos pesos en sus aristas."
      ],
      "metadata": {
        "id": "f_JlCy5dUheT"
      }
    },
    {
      "cell_type": "markdown",
      "source": [
        "2. Para resolver un **algoritmo de Dijkstra** hay que hacer lo siguiente:\n",
        "* Primero de todo hay que elegir el vértice de origen al que se le asignará un peso [X,Y] (N). X equivale a la suma del recorrido de las aristas, Y corresponde al vértice predecesor y N representa la operaión actual.\n",
        "* La operación anterior se repetira en los siguientes procesos. Una vez hayamos acabado con un vértice se dice que esta permanente, asi que repetimos el proceso con el vértice vecino. \n",
        "* Si en uno de los procesos hay un empate se debe elegir uno de los dos resultados sin ningún orden de preferencia. \n",
        "* Siempre hay que elegir el resultado donde la X sea más pequeña."
      ],
      "metadata": {
        "id": "Z9Th1BFyWqxV"
      }
    },
    {
      "cell_type": "markdown",
      "source": [
        "<img src= \"https://www.ingenieriaindustrialonline.com/wp-content/uploads/2019/06/Sin-t%C3%ADtulo-302.png\" width= \"500\" />\n",
        "<img src= \"https://www.ingenieriaindustrialonline.com/wp-content/uploads/2019/06/Sin-t%C3%ADtulo-309.png\" width= \"500\" />"
      ],
      "metadata": {
        "id": "JtMMLxARVfET"
      }
    },
    {
      "cell_type": "markdown",
      "source": [
        "## Práctica 2.2\n",
        "Vea el video:\n",
        "\n",
        "* [Camino mas corto Solver](https://youtu.be/LYeMWlTfOgA)\n",
        "\n",
        "Se pide:  \n",
        "1. Replique en un archivo de Excel el caso del vídeo, en la Hoja 1. En el método de resolución de Solver elija el método Simplex.\n",
        "2. En la Hoja 2, aplique esa metodología usando Solver a otro grafo de su invención. Dibuje el grafo, con sus nodos, flechas y pesos, y resuélvalo.\n",
        "3. Suba el archivo de Excel creado a la tarea del Aula Virtual."
      ],
      "metadata": {
        "id": "In4IULDcx1Az"
      }
    },
    {
      "cell_type": "markdown",
      "source": [
        "## Práctica 2.3\n",
        "1. Muestre el enlace a alguna página donde se de el algoritmo de Dijkstra programado en **Python**.\n",
        "2. Pruebe su código con algún grafo de ejemplo."
      ],
      "metadata": {
        "id": "Dp_Eb4ORzqg4"
      }
    },
    {
      "cell_type": "markdown",
      "source": [
        "### La página de enlace es:\n",
        "https://www.scaler.com/topics/data-structures/dijkstra-algorithm/"
      ],
      "metadata": {
        "id": "V70Fg06sNlf5"
      }
    },
    {
      "cell_type": "code",
      "source": [
        "intmax=9999999999 \n",
        "class Graph():\n",
        " \n",
        "    def __init__(self, vertices):\n",
        "        self.V = vertices\n",
        "        self.graph = [[0 for column in range(vertices)]\n",
        "                    for row in range(vertices)]\n",
        "                    \n",
        "    \n",
        " \n",
        "    def printSolution(self, dist):\n",
        "        print (\"Vertex \\tDistance from Source\")\n",
        "        for node in range(self.V):\n",
        "            print (node, \"\\t\", dist[node])\n",
        " \n",
        "    \n",
        "    def minDistance(self, dist, sptSet):\n",
        " \n",
        "        \n",
        "        min = intmax\n",
        " \n",
        "       \n",
        "        for u in range(self.V):\n",
        "            if dist[u] < min and sptSet[u] == False:\n",
        "                min = dist[u]\n",
        "                min_index = u\n",
        " \n",
        "        return min_index\n",
        " \n",
        "    \n",
        "    def dijkstra(self, src):\n",
        " \n",
        "        dist = [intmax] * self.V\n",
        "        dist[src] = 0\n",
        "        sptSet = [False] * self.V\n",
        " \n",
        "        for cout in range(self.V):\n",
        " \n",
        "            \n",
        "            x = self.minDistance(dist, sptSet)\n",
        " \n",
        "            \n",
        "            sptSet[x] = True\n",
        " \n",
        "            \n",
        "            for y in range(self.V):\n",
        "                if self.graph[x][y] > 0 and sptSet[y] == False and \\\n",
        "                dist[y] > dist[x] + self.graph[x][y]:\n",
        "                        dist[y] = dist[x] + self.graph[x][y]\n",
        " \n",
        "        self.printSolution(dist)\n",
        "\n",
        "g = Graph(5)\n",
        "g.graph = [[0,4,4,8,0],\n",
        "        [4,0,0,5,7],\n",
        "        [4,0,0,5,0],\n",
        "        [8,5,5,0,6],\n",
        "        [0,7,0,6,0],\n",
        "        ];\n",
        " \n",
        "g.dijkstra(0);\n",
        "\n",
        "\n"
      ],
      "metadata": {
        "colab": {
          "base_uri": "https://localhost:8080/"
        },
        "id": "YA49CH2VQVaa",
        "outputId": "3bc85a80-d954-4c90-8708-64955d6c6c2d"
      },
      "execution_count": null,
      "outputs": [
        {
          "output_type": "stream",
          "name": "stdout",
          "text": [
            "Vertex \tDistance from Source\n",
            "0 \t 0\n",
            "1 \t 4\n",
            "2 \t 4\n",
            "3 \t 8\n",
            "4 \t 11\n"
          ]
        }
      ]
    },
    {
      "cell_type": "markdown",
      "source": [
        "## Práctica 2.4\n",
        "* Dibuja un grafo que tenga un mínimo de 6 nodos\n",
        "* Crea en **Python** su **matriz de adyacencia**\n",
        "* Crea en Python su **lista de adyacencia**\n",
        "* ¿Son cero todos los elementos de la diagonal principal?\n",
        " - En qué caso serían todos cero y en qué caso no.\n",
        "* ¿Es una matriz simétrica?\n",
        " - En qué caso sería simétrica y en qué caso no.\n",
        "* Usando Python, suma todos los valores de la matriz\n",
        "* Comprueba si funcionan bien o no los siguientes códigos:\n",
        " - El primero permite convertir una matriz de adyacencia en una lista de adyacencia.\n",
        " - El segundo permite convertir una lista de adyacencia en una matriz de adyacencia.\n",
        "* Dibuja el grafo del ejemplo que se usa en este código."
      ],
      "metadata": {
        "id": "r8s1WapAnHlw"
      }
    },
    {
      "cell_type": "markdown",
      "source": [
        "<img src= \"https://graphonline.ru/tmp/saved/rJ/rJQQMffFUukAkcih.png\" width= \"300\" />"
      ],
      "metadata": {
        "id": "ZCRdNH_NRx0h"
      }
    },
    {
      "cell_type": "code",
      "source": [
        "def convert_to_adjacency(matrix):\n",
        "    start = 0\n",
        "    res = []\n",
        "    lst = []\n",
        "    n = len(matrix)\n",
        "    for i in range(n):\n",
        "        res.append(lst*n)\n",
        "    while start < n:\n",
        "        y = matrix[start]\n",
        "        for i in range(len(y)):\n",
        "            if y[i]==1:\n",
        "                res[start].append(i)\n",
        "        start +=1\n",
        "    return res\n",
        "\n",
        "matrix =[[0,1,1,1,0,0,0],[1,0,0,0,1,0,0],[1,0,0,1,0,0,0],[1,0,1,0,0,1,1],[0,1,0,0,0,1,0],[0,0,0,1,1,0,1],[0,0,0,1,0,1,0]]\n",
        "print(convert_to_adjacency(matrix))"
      ],
      "metadata": {
        "colab": {
          "base_uri": "https://localhost:8080/"
        },
        "id": "jEwaeu2dV-Gg",
        "outputId": "1f34bfb6-b023-4a86-dab5-fdcd6f00e619"
      },
      "execution_count": 29,
      "outputs": [
        {
          "output_type": "stream",
          "name": "stdout",
          "text": [
            "[[1, 2, 3], [0, 4], [0, 3], [0, 2, 5, 6], [1, 5], [3, 4, 6], [3, 5]]\n"
          ]
        }
      ]
    },
    {
      "cell_type": "code",
      "source": [
        "def convert_to_matrix(graph):\n",
        "    matrix =[]\n",
        "    for i in range(len(graph)): \n",
        "        matrix.append([0]*len(graph))\n",
        "        for j in graph[i]:\n",
        "            matrix[i][j]=1\n",
        "    return matrix\n",
        "\n",
        "lst =[[2,3,4],[1,5],[1,4],[1,3,6,7],[2,6],[4,5,7],[4,6]]\n",
        "print(convert_to_matrix(lst))"
      ],
      "metadata": {
        "colab": {
          "base_uri": "https://localhost:8080/",
          "height": 317
        },
        "id": "LQe6x7P3XVy7",
        "outputId": "7441287b-e3bb-4441-cee3-494616aeb361"
      },
      "execution_count": 27,
      "outputs": [
        {
          "output_type": "error",
          "ename": "IndexError",
          "evalue": "ignored",
          "traceback": [
            "\u001b[0;31m---------------------------------------------------------------------------\u001b[0m",
            "\u001b[0;31mIndexError\u001b[0m                                Traceback (most recent call last)",
            "\u001b[0;32m<ipython-input-27-d319c342f9ae>\u001b[0m in \u001b[0;36m<module>\u001b[0;34m\u001b[0m\n\u001b[1;32m      8\u001b[0m \u001b[0;34m\u001b[0m\u001b[0m\n\u001b[1;32m      9\u001b[0m \u001b[0mlst\u001b[0m \u001b[0;34m=\u001b[0m\u001b[0;34m[\u001b[0m\u001b[0;34m[\u001b[0m\u001b[0;36m2\u001b[0m\u001b[0;34m,\u001b[0m\u001b[0;36m3\u001b[0m\u001b[0;34m,\u001b[0m\u001b[0;36m4\u001b[0m\u001b[0;34m]\u001b[0m\u001b[0;34m,\u001b[0m\u001b[0;34m[\u001b[0m\u001b[0;36m1\u001b[0m\u001b[0;34m,\u001b[0m\u001b[0;36m5\u001b[0m\u001b[0;34m]\u001b[0m\u001b[0;34m,\u001b[0m\u001b[0;34m[\u001b[0m\u001b[0;36m1\u001b[0m\u001b[0;34m,\u001b[0m\u001b[0;36m4\u001b[0m\u001b[0;34m]\u001b[0m\u001b[0;34m,\u001b[0m\u001b[0;34m[\u001b[0m\u001b[0;36m1\u001b[0m\u001b[0;34m,\u001b[0m\u001b[0;36m3\u001b[0m\u001b[0;34m,\u001b[0m\u001b[0;36m6\u001b[0m\u001b[0;34m,\u001b[0m\u001b[0;36m7\u001b[0m\u001b[0;34m]\u001b[0m\u001b[0;34m,\u001b[0m\u001b[0;34m[\u001b[0m\u001b[0;36m2\u001b[0m\u001b[0;34m,\u001b[0m\u001b[0;36m6\u001b[0m\u001b[0;34m]\u001b[0m\u001b[0;34m,\u001b[0m\u001b[0;34m[\u001b[0m\u001b[0;36m4\u001b[0m\u001b[0;34m,\u001b[0m\u001b[0;36m5\u001b[0m\u001b[0;34m,\u001b[0m\u001b[0;36m7\u001b[0m\u001b[0;34m]\u001b[0m\u001b[0;34m,\u001b[0m\u001b[0;34m[\u001b[0m\u001b[0;36m4\u001b[0m\u001b[0;34m,\u001b[0m\u001b[0;36m6\u001b[0m\u001b[0;34m]\u001b[0m\u001b[0;34m]\u001b[0m\u001b[0;34m\u001b[0m\u001b[0;34m\u001b[0m\u001b[0m\n\u001b[0;32m---> 10\u001b[0;31m \u001b[0mprint\u001b[0m\u001b[0;34m(\u001b[0m\u001b[0mconvert_to_matrix\u001b[0m\u001b[0;34m(\u001b[0m\u001b[0mlst\u001b[0m\u001b[0;34m)\u001b[0m\u001b[0;34m)\u001b[0m\u001b[0;34m\u001b[0m\u001b[0;34m\u001b[0m\u001b[0m\n\u001b[0m",
            "\u001b[0;32m<ipython-input-27-d319c342f9ae>\u001b[0m in \u001b[0;36mconvert_to_matrix\u001b[0;34m(graph)\u001b[0m\n\u001b[1;32m      4\u001b[0m         \u001b[0mmatrix\u001b[0m\u001b[0;34m.\u001b[0m\u001b[0mappend\u001b[0m\u001b[0;34m(\u001b[0m\u001b[0;34m[\u001b[0m\u001b[0;36m0\u001b[0m\u001b[0;34m]\u001b[0m\u001b[0;34m*\u001b[0m\u001b[0mlen\u001b[0m\u001b[0;34m(\u001b[0m\u001b[0mgraph\u001b[0m\u001b[0;34m)\u001b[0m\u001b[0;34m)\u001b[0m\u001b[0;34m\u001b[0m\u001b[0;34m\u001b[0m\u001b[0m\n\u001b[1;32m      5\u001b[0m         \u001b[0;32mfor\u001b[0m \u001b[0mj\u001b[0m \u001b[0;32min\u001b[0m \u001b[0mgraph\u001b[0m\u001b[0;34m[\u001b[0m\u001b[0mi\u001b[0m\u001b[0;34m]\u001b[0m\u001b[0;34m:\u001b[0m\u001b[0;34m\u001b[0m\u001b[0;34m\u001b[0m\u001b[0m\n\u001b[0;32m----> 6\u001b[0;31m             \u001b[0mmatrix\u001b[0m\u001b[0;34m[\u001b[0m\u001b[0mi\u001b[0m\u001b[0;34m]\u001b[0m\u001b[0;34m[\u001b[0m\u001b[0mj\u001b[0m\u001b[0;34m]\u001b[0m\u001b[0;34m=\u001b[0m\u001b[0;36m1\u001b[0m\u001b[0;34m\u001b[0m\u001b[0;34m\u001b[0m\u001b[0m\n\u001b[0m\u001b[1;32m      7\u001b[0m     \u001b[0;32mreturn\u001b[0m \u001b[0mmatrix\u001b[0m\u001b[0;34m\u001b[0m\u001b[0;34m\u001b[0m\u001b[0m\n\u001b[1;32m      8\u001b[0m \u001b[0;34m\u001b[0m\u001b[0m\n",
            "\u001b[0;31mIndexError\u001b[0m: list assignment index out of range"
          ]
        }
      ]
    },
    {
      "cell_type": "markdown",
      "source": [
        "##¿ Son cero todos los elementos de la diagonal principal?\n",
        "\n",
        "* La respuesta es si, todos los elementos de la diagonal princpial son 0. Esto se debe a que no existe ningún bucle en el grafo"
      ],
      "metadata": {
        "id": "DmTWcqoVZxHR"
      }
    },
    {
      "cell_type": "markdown",
      "source": [
        "## ¿Es una matriz simétrica?\n",
        "\n",
        "* Si, si es una matriz simetrica. Lo sabemos porque al cambiar las filas or columnas y las columnas por filas, la matriz sigue siendo la misma."
      ],
      "metadata": {
        "id": "8wUht6iEbyM5"
      }
    },
    {
      "cell_type": "code",
      "source": [
        "matriz=[\n",
        "    [0,1,1,1,0,0,0],\n",
        "    [1,0,0,0,1,0,0],\n",
        "    [1,0,0,1,0,0,0],\n",
        "    [1,0,1,0,0,1,1],\n",
        "    [0,1,0,0,0,1,0],\n",
        "    [0,0,0,1,1,0,1],\n",
        "    [0,0,0,1,0,1,0]\n",
        "]\n",
        "sumaFilas = lambda matriz: [sum(i) for i in matriz]\n",
        "sumaColumnas = lambda matriz: [sum(i) for i in zip(*matriz)]\n",
        " "
      ],
      "metadata": {
        "id": "XGzWy6Itc8AW"
      },
      "execution_count": 37,
      "outputs": []
    },
    {
      "cell_type": "code",
      "source": [
        "def convert_to_adjacency(matrix):\n",
        "    start = 0\n",
        "    res = []\n",
        "    lst = []\n",
        "    n = len(matrix)\n",
        "    for i in range(n):\n",
        "        res.append(lst*n)\n",
        "    while start < n:\n",
        "        y = matrix[start]\n",
        "        for i in range(len(y)):\n",
        "            if y[i]==1:\n",
        "                res[start].append(i)\n",
        "        start +=1\n",
        "    return res\n",
        "\n",
        "matrix =[[0,1,1,1,0,1,1,0,0],[1,0,0,1,0,0,1,1,0],[1,0,0,1,0,0,0,0,0],[1,1,1,0,1,0,0,0,0],[0,0,0,1,0,1,0,0,1],[1,0,0,0,1,0,0,0,1],[1,1,0,0,0,0,0,0,0],[0,1,0,0,0,0,0,0,0],[0,0,0,0,1,1,0,0,0]]\n",
        "print(convert_to_adjacency(matrix))"
      ],
      "metadata": {
        "id": "DDM1R2YzO-c-",
        "colab": {
          "base_uri": "https://localhost:8080/"
        },
        "outputId": "765e1895-55e9-410b-a649-24d161417798"
      },
      "execution_count": null,
      "outputs": [
        {
          "output_type": "stream",
          "name": "stdout",
          "text": [
            "[[1, 2, 3, 5, 6], [0, 3, 6, 7], [0, 3], [0, 1, 2, 4], [3, 5, 8], [0, 4, 8], [0, 1], [1], [4, 5]]\n"
          ]
        }
      ]
    },
    {
      "cell_type": "code",
      "source": [
        "def convert_to_matrix(graph):\n",
        "    matrix =[]\n",
        "    for i in range(len(graph)): \n",
        "        matrix.append([0]*len(graph))\n",
        "        for j in graph[i]:\n",
        "            matrix[i][j]=1\n",
        "    return matrix\n",
        "\n",
        "lst =[[1,2,3,5,6],[0,3,6,7],[0,3],[0,1,2,4],[3,5,8],[0,4,8],[0,1],[1],[4,5]]\n",
        "print(convert_to_matrix(lst))"
      ],
      "metadata": {
        "id": "TcrGI9GTQ-o2",
        "colab": {
          "base_uri": "https://localhost:8080/"
        },
        "outputId": "c1b3f04a-caca-47c6-882b-426ad115c386"
      },
      "execution_count": 28,
      "outputs": [
        {
          "output_type": "stream",
          "name": "stdout",
          "text": [
            "[[0, 1, 1, 1, 0, 1, 1, 0, 0], [1, 0, 0, 1, 0, 0, 1, 1, 0], [1, 0, 0, 1, 0, 0, 0, 0, 0], [1, 1, 1, 0, 1, 0, 0, 0, 0], [0, 0, 0, 1, 0, 1, 0, 0, 1], [1, 0, 0, 0, 1, 0, 0, 0, 1], [1, 1, 0, 0, 0, 0, 0, 0, 0], [0, 1, 0, 0, 0, 0, 0, 0, 0], [0, 0, 0, 0, 1, 1, 0, 0, 0]]\n"
          ]
        }
      ]
    },
    {
      "cell_type": "markdown",
      "source": [
        "### Este es el grafo que se representa en los códigos de arriba:\n",
        "\n",
        "<img src= \"https://graphonline.ru/tmp/saved/CT/CTfZzDTbYciKXYso.png\" width= \"800\" />"
      ],
      "metadata": {
        "id": "VARsDC0Ofvsi"
      }
    },
    {
      "cell_type": "markdown",
      "source": [
        "## Práctica 2.5\n",
        "**Árboles binarios**\n",
        "* Mira este vídeo: [¿Qué son los ÁRBOLES BINARIOS y por qué son tan geniales?](https://youtu.be/lMTaNbJAqvM)\n",
        "* ¿Qué son los **árboles binarios de búsqueda**? (en inglés: BST (Binary Search Tree))\n",
        "* Mira este vídeo: [Recorrido de Árboles Binarios](https://youtu.be/WCiwBrj8EQY)\n",
        "* Qué significa recorrer el árbol en:\n",
        " - preorden\n",
        " - inorden\n",
        " - postorden\n",
        "* Al BST del vídeo anterior añadele dos nodos de tu elección, de forma que continúe siendo un BST, dibujalo (poniendo en color azul claro los dos nodos nuevos) y da su recorrido en:\n",
        " - preorden\n",
        " - inorden (observa que en este caso los nodos deben quedar **ordenados** de menor a mayor)\n",
        " - postorden\n",
        "* ¿Por qué los BST son importantes en ciencias de la computación?\n",
        "* Pon un link a una página o vídeo que trate este tema en **Python**.\n",
        "* ¿Has probado el código en Python que comentas? ¿Funciona con el BST que has puesto como ejemplo?"
      ],
      "metadata": {
        "id": "KciKQEh-DIxH"
      }
    },
    {
      "cell_type": "markdown",
      "source": [
        "#### ¿ QUÉ SON LOS **ÁRBOLES BINARIOS DE BÚSQUEDA** ?\n",
        "\n",
        "Los **árboles binarios de búsqueda** son estructuras ordenadas de datos donde los registros pueden estar relacionados con otros registros. Estos árboles son de orden 2, eso quiere decir que sus nodos solo pueden tener un máximo de dos hijos. Además tienen que cumplir dos condiciones; si el nodo tiene un hijo izquierdo, este tiene que ser menor que él, y si el nodo tiene un hijo derecho, este tiene que ser mayor que él."
      ],
      "metadata": {
        "id": "zUXwRvY-D-um"
      }
    },
    {
      "cell_type": "markdown",
      "source": [
        "#### PREORDEN, INORDEN Y POSTORDEN:\n",
        "\n",
        "* Preorden: se comienza en el nodo de raíz, después se atraviesa el sub-árbol izquierdo y por último el sub-árbol derecho. Y así sucesivamente.\n",
        "\n",
        "* Inorden: se empieza atravesando el sub-árbol izquierdo, luego se visita la raíz y por último se atraviesa el sub-árbol derecho. Y así sucesivamente.\n",
        "\n",
        "* Postorden: se comienza atravesando el sub-árbol izquierdo, después se atraviesa el sub-árbol derecho y por útlimo se visita la raíz. Y así sucesivamente."
      ],
      "metadata": {
        "id": "fneqG68AIMEM"
      }
    },
    {
      "cell_type": "markdown",
      "source": [
        "<img src= \"https://graphonline.ru/tmp/saved/ca/casLYvdznnsnwVwM.png\" width= \"900\" />\n",
        "\n",
        "* **Los nuevos nodos son 38 y 12** (no me dejaba ponerlos de azul claro)"
      ],
      "metadata": {
        "id": "C06rRKCDJoMO"
      }
    },
    {
      "cell_type": "markdown",
      "source": [
        "* Preorden: 30, 15, 11, 2, 0, 1, 5, 7, 6, 13, 12, 21, 17, 16, 19, 26, 29, 35, 31, 34, 40, 38, 50, 42, 45, 60, 75\n",
        "\n",
        "* Inorden: 0, 1, 2, 5, 6, 7, 11, 12, 13, 15, 16, 17, 19, 21, 26, 29, 30, 31, 34, 35, 38, 40, 42, 45, 50, 60, 75\n",
        "\n",
        "* Postorden: 1, 0, 6, 7, 5, 2, 12, 13, 11, 16, 19, 17, 29, 26, 21, 15, 34, 31, 38, 45, 42, 75, 60, 50, 40, 35"
      ],
      "metadata": {
        "id": "GodCKmHkKGyD"
      }
    },
    {
      "cell_type": "markdown",
      "source": [
        "Los árboles binarios de búsqueda nos permiten hacer búsquedas, inserciones y eliminaciones de elementos con un rendimiento impresionante, como por ejemplo en una lista con un millón de elementos. Además los caches, las bases de datos y los diccionarios que usamos seguramente implementan sus funcionalidades utilizando esta estructura de datos.\n",
        "\n",
        "En las ciencias de la **computación** se trabaja a la vez con una numerosa cantidad de datos por lo que la utilización de estos árboles facilita notablemente el trabajo."
      ],
      "metadata": {
        "id": "36JjihIjMO3P"
      }
    },
    {
      "cell_type": "code",
      "source": [
        "class Arbol(object):\n",
        "  def __init__(self):\n",
        "    self.der = 35\n",
        "    self.izq  = 15\n",
        "    self.dato  = 30\n",
        "    \n",
        "raiz = Arbol()\n",
        "raiz.dato = '30'\n",
        "raiz.izq = Arbol()\n",
        "raiz.izq.dato = '15'\n",
        "raiz.der = Arbol()\n",
        "raiz.der.dato = '35'\n",
        "raiz.izq.izq = Arbol()\n",
        "raiz.izq.izq.dato = '11'\n",
        "raiz.izq.der = Arbol()\n",
        "raiz.izq.der.dato = 'Izquierda - Derecha'\n"
      ],
      "metadata": {
        "id": "YZl9eDcOSitn"
      },
      "execution_count": 25,
      "outputs": []
    },
    {
      "cell_type": "markdown",
      "source": [
        "Después de buscar muchisimas páinas como esta: \n",
        "* https://unipython.com/arboles-en-python/\n",
        "\n",
        "ninguna me ha funcionado, podría ser porque los códigos que he encontrado sean para arboles demasiado simples y por eso no encuentro uno que resuleva el del ejercicio."
      ],
      "metadata": {
        "id": "ZIDD8QV6UA5R"
      }
    },
    {
      "cell_type": "markdown",
      "source": [
        "## Práctica 2.6\n",
        "* ¿Qué es un **camino hamiltoniano**?\n",
        "* Pon un ejemplo\n",
        "* Dibújalo\n",
        "* Resulevelo\n",
        "* ¿Qué utilidad tiene?\n",
        "* Muestra los enlaces a un par de vídeos que hablen de ello"
      ],
      "metadata": {
        "id": "Chf7cUkfaR9O"
      }
    },
    {
      "cell_type": "markdown",
      "source": [
        "Un **camino hamiltoniano** es un camino de un grafo que pasa por todos los vértices de este exclusivamente una vez, es decir sin pasar dos veces por el mismo vértice."
      ],
      "metadata": {
        "id": "3_Cpu-MPUoWy"
      }
    },
    {
      "cell_type": "markdown",
      "source": [
        " Un ejemplo de **camino hamiltoniano** seria:\n",
        " \n",
        " <img src= \"https://graphonline.ru/tmp/saved/pc/pcqUJoSCvxaClVlq.png\" width= \"150\" />\n",
        "\n",
        " Y una de las soluciones podría ser: 23541"
      ],
      "metadata": {
        "id": "o28Pf9FqV4d0"
      }
    },
    {
      "cell_type": "markdown",
      "source": [
        "#### ¿QUÉ UTILIDAD TIENEN LOS CAMINOS HAMILTONIANOS?\n",
        "\n",
        "Las utilidades que tienen los caminos hamiltonianos son transformar un recorrido incompleto en uno completo o transformar un recorrido abierto en cerrado\n",
        "\n",
        "Como por ejemplo en el ajedrez cuando encuentran un camino que recorra las 64 casillas pasando una sola vez por cada una de ellas. O cuando buscan encontrar un recorrido cerrado que termine en una casilla desde la que el caballo puede saltar a la casilla donde se inició el recorrido."
      ],
      "metadata": {
        "id": "DE8nEpy_WZq1"
      }
    },
    {
      "cell_type": "markdown",
      "source": [
        "Aquí hay un par de vídeos que explican con claridad en que consisten los caminos hamiltonianos:\n",
        "* https://www.youtube.com/watch?v=ueE7IAfLmqk (hasta el minuto 4:38)\n",
        "* https://www.youtube.com/watch?v=szy_twwJQPA"
      ],
      "metadata": {
        "id": "vrTBCZP-YNJ7"
      }
    },
    {
      "cell_type": "markdown",
      "source": [
        "## Práctica 2.7\n",
        "* Mira este vídeo:\n",
        " - [Un problema matemático de ciudades y carreteras](https://youtu.be/kwU1uIbylsM)\n",
        "* Dibuja el grafo y da tu solución"
      ],
      "metadata": {
        "id": "vJ9XxUVKcpys"
      }
    },
    {
      "cell_type": "markdown",
      "source": [
        "<img src= \"https://graphonline.ru/tmp/saved/OF/OFWbDUkwzGkxjFtx.png\" width= \"500\" />\n",
        "\n"
      ],
      "metadata": {
        "id": "bmIC1QA17pyn"
      }
    },
    {
      "cell_type": "markdown",
      "source": [
        "###Este problema nos plantea si existe la posibilidad de encontrar un **ciclo hamiltoninao** para este grafo. \n",
        "* La respuesta es que no, no es posible debido a que el grafo es bipartito, además tiene un número impar de nodos y no tiene ciclos impares.\n",
        "\n"
      ],
      "metadata": {
        "id": "Wk-Bdbnu8ZEc"
      }
    },
    {
      "cell_type": "markdown",
      "source": [
        "## Práctica 2.8\n",
        "* El problema de **los puentes de Königsberg**\n",
        "* Describe el problema\n",
        "* Muestra una imagen del grafo resultante\n",
        "* Quién fue *Euler* y qué hizo para resolver el problema"
      ],
      "metadata": {
        "id": "mWSmp60VaQRp"
      }
    },
    {
      "cell_type": "markdown",
      "source": [
        "El problema de **los puentes de Königsberg**, como bien dice su nombre surgió en la ciudad de Königsberg (actualmente conocida como Kaliningrado), localizada en la desembocadura del río Pregolya, en la antigua Prusia Oriental. Este río atravesaba toda la ciudad diviendola en cuatro zonas. \n",
        "\n",
        "Los ciudadanos por miedo a que se perdiera la comunicación entre zonas establecieron un sistema de puentes conectores, que contaba con siete puentes. Ellos muy orgullosos de la red de comunicación que habían creado propusieron un juego que constaba de una sola pregunta:\n",
        "* ¿Se pueden atravesar todos los puentes pasando sólo una vez por cada puente?"
      ],
      "metadata": {
        "id": "acA9lerfeaei"
      }
    },
    {
      "cell_type": "markdown",
      "source": [
        "<img src= \"http://2.bp.blogspot.com/_Sj_ZQzLQVBI/TJeP5hgamjI/AAAAAAAAA98/DcelwRNh0q8/s1600/Konigsburg_graph.jpg\" width= \"300\" />"
      ],
      "metadata": {
        "id": "J3ZaO_AveP0z"
      }
    },
    {
      "cell_type": "markdown",
      "source": [
        " **Leonhard Euler** fue un matemático que trabajaba en la Academia Prusiana de las Ciencias, y al igual que el resto de matemáticos de la época se interesó por descifrar dicho acertijo. Al ver que este no tenía solución **Euler** no se conformó con eso y buscó darle una explicaión racional y demostrativa de porqué era imposible cruzar todos los puentes una sola vez sin repetir ninguno.\n",
        "\n",
        "Lo primero que hizo fue simplicar el mapa de la ciudad a unas cuentas líneas y puntos. Representó las cuatro zonas en las que estaba dividida la ciudad como puntos (vértices), y los siete puentes se representaron como líneas (aristas). Gracias a este esquema **Euler** consiguió darle una explicación a la imposibilidad del problema.\n",
        "\n",
        "**Euler** afirmó que los vértices intermedios debian tener un número par de aristas (es decir deben ser de grado par) teniendo así una vía para entrar y otra para salir, mientras que dos de ellos debían de tener un grado impar de aristas (es decir deben ser de grado impar). Los dos vértices de grado impar obligatoriamente tienen que ser los puntos de inicio y de salida pues esta claro que no podemos entra al punto de incio y no podemos salir del punto de llegada.\n",
        "\n",
        "Al observar el grafo y ver que todos los vértices son de grado impar se corrobora la imposibilida de solución del acertijo. \n",
        "\n",
        "Por último **Euler** tambien llegó a la conclusion de que si el vértice de inicio y el de salida son el mismo, todos los vértices deberan de ser de grado par.\n",
        "\n",
        "Los estudios que realizó **Euler** fueron el detonante de lo que hoy conocemos como *teroía de grafos*."
      ],
      "metadata": {
        "id": "7ig8gRqwgsni"
      }
    },
    {
      "cell_type": "markdown",
      "source": [
        "## Práctica 2.9\n",
        "* ¿Qué son los **caminos eulerianos**?\n",
        "* ¿Qué son los **ciclos eulerianos**?\n",
        "* Da los enlaces a dos vídeos que hablen de ello\n",
        "* Dibuja un par de casos"
      ],
      "metadata": {
        "id": "_jPsX_8vhGkL"
      }
    },
    {
      "cell_type": "markdown",
      "source": [
        "* Un **camino euleriano** es un camino que pasa por todas las aristas de un grafo sin repetir ninguna, pero si que puede pasar por un mismo vértice más de una vez. Para que esto se cumpla dos de los vértices del grafo tienen que ser de grado impar, uno de ellos coincide con el vértice inicial y el otro con el vértice final.\n",
        "\n",
        "* Un **ciclo euleriano** es cuando el camino se inicia y se finaliza en el mismo vértice, recorriendo todas las aristas del grafo pero sin pasar dos veces por las misma arista. Para que se de un ciclo euleriano en un grafo todos lo vértices deben ser de grado par, ademas el vértice inicial y el final deben ser el mismo."
      ],
      "metadata": {
        "id": "HsrjgfGoIPqK"
      }
    },
    {
      "cell_type": "markdown",
      "source": [
        "* https://www.youtube.com/watch?v=w8d-4FyrbYk\n",
        "* https://www.youtube.com/watch?v=57yhBHFCb7w"
      ],
      "metadata": {
        "id": "jPmcK-btGsOD"
      }
    },
    {
      "cell_type": "markdown",
      "source": [
        "<img src= \"https://graphonline.ru/tmp/saved/uz/uzrwmCqSwFRLwBoG.png\" width= \"700\" />"
      ],
      "metadata": {
        "id": "FUTL_f17S6aw"
      }
    },
    {
      "cell_type": "markdown",
      "source": [
        "* Este grafo de arriba tiene un camino euleriano: 23426453716"
      ],
      "metadata": {
        "id": "bvN_6RUVTHDT"
      }
    },
    {
      "cell_type": "markdown",
      "source": [
        "\n",
        "\n",
        "<img src= \"https://graphonline.ru/tmp/saved/GB/GBgJbUtTYZEbWfEj.png\" width= \"300\" />\n",
        "\n",
        "\n",
        "\n"
      ],
      "metadata": {
        "id": "SSqekM7KUEYU"
      }
    },
    {
      "cell_type": "markdown",
      "source": [
        "* Este grafo de arriba tiene un ciclo euleriano: 51264357685"
      ],
      "metadata": {
        "id": "A_OtEJL_VTcY"
      }
    },
    {
      "cell_type": "markdown",
      "source": [
        "## Práctica 2.10\n",
        "* Mira estos vídeos:\n",
        " - [¿Puedes dibujarlo sin despegar el lápiz?](https://youtu.be/IZ0-xFrlvag)\n",
        " - [USA esta LÓGICA cuando NO PUEDAS con un PROBLEMA](https://youtu.be/5Ncb7eU0LkQ)\n",
        "* Caso 1: dibuja un grafo en el que si sea posible y resuélvelo\n",
        "* Caso 2: dibuja un grafo en el que no sea posible y di el motivo"
      ],
      "metadata": {
        "id": "4wcsNU_-kQM-"
      }
    },
    {
      "cell_type": "markdown",
      "source": [
        "#### CASO 1:\n",
        "\n",
        "<img src= \"https://graphonline.ru/tmp/saved/gg/ggPBQvirtltHcmAB.png\" width= \"900\" />\n",
        "\n",
        "La solución de este grafo de tal manera que se pueda dibujar sin necesidad de levantar el lápiz del papel es: 6543213827685"
      ],
      "metadata": {
        "id": "sq1jmpZeZPU2"
      }
    },
    {
      "cell_type": "markdown",
      "source": [
        "#### CASO 2:\n",
        "\n",
        "<img src= \"https://graphonline.ru/tmp/saved/gp/gpGAROaNovnOBCAJ.png\" width= \"300\" />\n",
        "\n",
        "Como vereis este grafo es prácticamente igual que el de arriba, su única diferencia es una arista de más que une los vértices 7 y 8. Esta arista de más cambia la solución de todo el problema, pues como bien explican en los vídeos, para poder resolver el grafo sin levantar el lápiz del papel se tienen que dar dos escenarios; o bien que todos los vértices sean de grado par, o que solamente dos de ellos sean de grado impar (los cuales coincidirian con el vértice de salida y con el vértice de llegada). Al añadir esa arista ahora hay 4 vértices que son de grado impar, lo que hace imposible la resolución del problema.\n"
      ],
      "metadata": {
        "id": "JaQe3HXWZUvL"
      }
    }
  ]
}