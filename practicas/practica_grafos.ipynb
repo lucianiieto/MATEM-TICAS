{
  "nbformat": 4,
  "nbformat_minor": 0,
  "metadata": {
    "colab": {
      "provenance": [],
      "include_colab_link": true
    },
    "kernelspec": {
      "name": "python3",
      "display_name": "Python 3"
    },
    "language_info": {
      "name": "python"
    }
  },
  "cells": [
    {
      "cell_type": "markdown",
      "metadata": {
        "id": "view-in-github",
        "colab_type": "text"
      },
      "source": [
        "<a href=\"https://colab.research.google.com/github/lucianiieto/matematicas/blob/main/practicas/practica_grafos.ipynb\" target=\"_parent\"><img src=\"https://colab.research.google.com/assets/colab-badge.svg\" alt=\"Open In Colab\"/></a>"
      ]
    },
    {
      "cell_type": "markdown",
      "source": [
        "# Práctica 2. Grafos"
      ],
      "metadata": {
        "id": "s28_pETXts4V"
      }
    },
    {
      "cell_type": "markdown",
      "source": [
        "## Práctica 2.1\n",
        "**Algoritmo de Dijkstra**\n",
        "\n",
        "1. Mira estos vídeos:\n",
        " * [Algoritmo de DIJKSTRA ruta corta](https://youtu.be/6rl0ghgPfK0)\n",
        " * [Ruta mas corta en una red, algoritmo de Dijkstra](https://youtu.be/rh02c7v3EKY)\n",
        "2. ¿Qué utilidad tiene el algoritmo?\n",
        "3. Explique el algoritmo.\n",
        "4. De un ejemplo de un grafo resuelto con el algoritmo de Dijkstra.\n",
        "* Muestre la imagen del grafo con sus:\n",
        "  - nodos\n",
        "  - aristas (con flecha si son orientadas)\n",
        "  - pesos (distancias o costes)\n",
        "* Muestre nuevamente la imagen del grafo pero en esta ocasión con la solución."
      ],
      "metadata": {
        "id": "6Gr8mAWDxCdq"
      }
    },
    {
      "cell_type": "markdown",
      "source": [
        "1. La utilidad del **algoritmo de Dijkstra** es encontrar el camino más corto dado un vértice de origen hacia el resto de vértices de un grafo que cuenta con distintos pesos en sus aristas."
      ],
      "metadata": {
        "id": "f_JlCy5dUheT"
      }
    },
    {
      "cell_type": "markdown",
      "source": [
        "2. Para resolver un **algoritmo de Dijkstra** hay que hacer lo siguiente:\n",
        "* Primero de todo hay que elegir el vértice de origen al que se le asignará un peso [X,Y] (N). X equivale a la suma del recorrido de las aristas, Y corresponde al vértice predecesor y N representa la operaión actual.\n",
        "* La operación anterior se repetira en los siguientes procesos. Una vez hayamos acabado con un vértice se dice que esta permanente, asi que repetimos el proceso con el vértice vecino. \n",
        "* Si en uno de los procesos hay un empate se debe elegir uno de los dos resultados sin ningún orden de preferencia. \n",
        "* Siempre hay que elegir el resultado donde la X sea más pequeña."
      ],
      "metadata": {
        "id": "Z9Th1BFyWqxV"
      }
    },
    {
      "cell_type": "markdown",
      "source": [
        "<img src= \"https://www.ingenieriaindustrialonline.com/wp-content/uploads/2019/06/Sin-t%C3%ADtulo-302.png\" width= \"500\" />\n",
        "<img src= \"https://www.ingenieriaindustrialonline.com/wp-content/uploads/2019/06/Sin-t%C3%ADtulo-309.png\" width= \"500\" />"
      ],
      "metadata": {
        "id": "JtMMLxARVfET"
      }
    },
    {
      "cell_type": "markdown",
      "source": [
        "## Práctica 2.2\n",
        "Vea el video:\n",
        "\n",
        "* [Camino mas corto Solver](https://youtu.be/LYeMWlTfOgA)\n",
        "\n",
        "Se pide:  \n",
        "1. Replique en un archivo de Excel el caso del vídeo, en la Hoja 1. En el método de resolución de Solver elija el método Simplex.\n",
        "2. En la Hoja 2, aplique esa metodología usando Solver a otro grafo de su invención. Dibuje el grafo, con sus nodos, flechas y pesos, y resuélvalo.\n",
        "3. Suba el archivo de Excel creado a la tarea del Aula Virtual."
      ],
      "metadata": {
        "id": "In4IULDcx1Az"
      }
    },
    {
      "cell_type": "markdown",
      "source": [
        "## Práctica 2.3\n",
        "1. Muestre el enlace a alguna página donde se de el algoritmo de Dijkstra programado en **Python**.\n",
        "2. Pruebe su código con algún grafo de ejemplo."
      ],
      "metadata": {
        "id": "Dp_Eb4ORzqg4"
      }
    },
    {
      "cell_type": "markdown",
      "source": [
        "### La página de enlace es:\n",
        "https://www.scaler.com/topics/data-structures/dijkstra-algorithm/"
      ],
      "metadata": {
        "id": "V70Fg06sNlf5"
      }
    },
    {
      "cell_type": "code",
      "source": [
        "intmax=9999999999 \n",
        "class Graph():\n",
        " \n",
        "    def __init__(self, vertices):\n",
        "        self.V = vertices\n",
        "        self.graph = [[0 for column in range(vertices)]\n",
        "                    for row in range(vertices)]\n",
        "                    \n",
        "    \n",
        " \n",
        "    def printSolution(self, dist):\n",
        "        print (\"Vertex \\tDistance from Source\")\n",
        "        for node in range(self.V):\n",
        "            print (node, \"\\t\", dist[node])\n",
        " \n",
        "    \n",
        "    def minDistance(self, dist, sptSet):\n",
        " \n",
        "        \n",
        "        min = intmax\n",
        " \n",
        "       \n",
        "        for u in range(self.V):\n",
        "            if dist[u] < min and sptSet[u] == False:\n",
        "                min = dist[u]\n",
        "                min_index = u\n",
        " \n",
        "        return min_index\n",
        " \n",
        "    \n",
        "    def dijkstra(self, src):\n",
        " \n",
        "        dist = [intmax] * self.V\n",
        "        dist[src] = 0\n",
        "        sptSet = [False] * self.V\n",
        " \n",
        "        for cout in range(self.V):\n",
        " \n",
        "            \n",
        "            x = self.minDistance(dist, sptSet)\n",
        " \n",
        "            \n",
        "            sptSet[x] = True\n",
        " \n",
        "            \n",
        "            for y in range(self.V):\n",
        "                if self.graph[x][y] > 0 and sptSet[y] == False and \\\n",
        "                dist[y] > dist[x] + self.graph[x][y]:\n",
        "                        dist[y] = dist[x] + self.graph[x][y]\n",
        " \n",
        "        self.printSolution(dist)\n",
        "\n",
        "g = Graph(5)\n",
        "g.graph = [[0,4,4,8,0],\n",
        "        [4,0,0,5,7],\n",
        "        [4,0,0,5,0],\n",
        "        [8,5,5,0,6],\n",
        "        [0,7,0,6,0],\n",
        "        ];\n",
        " \n",
        "g.dijkstra(0);\n",
        "\n",
        "\n"
      ],
      "metadata": {
        "colab": {
          "base_uri": "https://localhost:8080/"
        },
        "id": "YA49CH2VQVaa",
        "outputId": "3bc85a80-d954-4c90-8708-64955d6c6c2d"
      },
      "execution_count": 18,
      "outputs": [
        {
          "output_type": "stream",
          "name": "stdout",
          "text": [
            "Vertex \tDistance from Source\n",
            "0 \t 0\n",
            "1 \t 4\n",
            "2 \t 4\n",
            "3 \t 8\n",
            "4 \t 11\n"
          ]
        }
      ]
    },
    {
      "cell_type": "markdown",
      "source": [
        "## Práctica 2.4\n",
        "* Dibuja un grafo que tenga un mínimo de 6 nodos\n",
        "* Crea en **Python** su **matriz de adyacencia**\n",
        "* Crea en Python su **lista de adyacencia**\n",
        "* ¿Son cero todos los elementos de la diagonal principal?\n",
        " - En qué caso serían todos cero y en qué caso no.\n",
        "* ¿Es una matriz simétrica?\n",
        " - En qué caso sería simétrica y en qué caso no.\n",
        "* Usando Python, suma todos los valores de la matriz\n",
        "* Comprueba si funcionan bien o no los siguientes códigos:\n",
        " - El primero permite convertir una matriz de adyacencia en una lista de adyacencia.\n",
        " - El segundo permite convertir una lista de adyacencia en una matriz de adyacencia.\n",
        "* Dibuja el grafo del ejemplo que se usa en este código."
      ],
      "metadata": {
        "id": "r8s1WapAnHlw"
      }
    },
    {
      "cell_type": "code",
      "source": [
        "def convert_to_adjacency(matrix):\n",
        "    start = 0\n",
        "    res = []\n",
        "    lst = []\n",
        "    n = len(matrix)\n",
        "    for i in range(n):\n",
        "        res.append(lst*n)\n",
        "    while start < n:\n",
        "        y = matrix[start]\n",
        "        for i in range(len(y)):\n",
        "            if y[i]==1:\n",
        "                res[start].append(i)\n",
        "        start +=1\n",
        "    return res\n",
        "\n",
        "matrix =[[0,1,1,1,0,1,1,0,0],[1,0,0,1,0,0,1,1,0],[1,0,0,1,0,0,0,0,0],[1,1,1,0,1,0,0,0,0],[0,0,0,1,0,1,0,0,1],[1,0,0,0,1,0,0,0,1],[1,1,0,0,0,0,0,0,0],[0,1,0,0,0,0,0,0,0],[0,0,0,0,1,1,0,0,0]]\n",
        "print(convert_to_adjacency(matrix))"
      ],
      "metadata": {
        "id": "DDM1R2YzO-c-",
        "colab": {
          "base_uri": "https://localhost:8080/"
        },
        "outputId": "765e1895-55e9-410b-a649-24d161417798"
      },
      "execution_count": 3,
      "outputs": [
        {
          "output_type": "stream",
          "name": "stdout",
          "text": [
            "[[1, 2, 3, 5, 6], [0, 3, 6, 7], [0, 3], [0, 1, 2, 4], [3, 5, 8], [0, 4, 8], [0, 1], [1], [4, 5]]\n"
          ]
        }
      ]
    },
    {
      "cell_type": "code",
      "source": [
        "def convert_to_matrix(graph):\n",
        "    matrix =[]\n",
        "    for i in range(len(graph)): \n",
        "        matrix.append([0]*len(graph))\n",
        "        for j in graph[i]:\n",
        "            matrix[i][j]=1\n",
        "    return matrix\n",
        "\n",
        "lst =[[1,2,3,5,6],[0,3,6,7],[0,3],[0,1,2,4],[3,5,8],[0,4,8],[0,1],[1],[4,5]]\n",
        "print(convert_to_matrix(lst))"
      ],
      "metadata": {
        "id": "TcrGI9GTQ-o2",
        "colab": {
          "base_uri": "https://localhost:8080/"
        },
        "outputId": "5af028a7-a3e2-4e87-e09b-396a3be7a65e"
      },
      "execution_count": 2,
      "outputs": [
        {
          "output_type": "stream",
          "name": "stdout",
          "text": [
            "[[0, 1, 1, 1, 0, 1, 1, 0, 0], [1, 0, 0, 1, 0, 0, 1, 1, 0], [1, 0, 0, 1, 0, 0, 0, 0, 0], [1, 1, 1, 0, 1, 0, 0, 0, 0], [0, 0, 0, 1, 0, 1, 0, 0, 1], [1, 0, 0, 0, 1, 0, 0, 0, 1], [1, 1, 0, 0, 0, 0, 0, 0, 0], [0, 1, 0, 0, 0, 0, 0, 0, 0], [0, 0, 0, 0, 1, 1, 0, 0, 0]]\n"
          ]
        }
      ]
    },
    {
      "cell_type": "markdown",
      "source": [
        "## Práctica 2.5\n",
        "**Árboles binarios**\n",
        "* Mira este vídeo: [¿Qué son los ÁRBOLES BINARIOS y por qué son tan geniales?](https://youtu.be/lMTaNbJAqvM)\n",
        "* ¿Qué son los **árboles binarios de búsqueda**? (en inglés: BST (Binary Search Tree))\n",
        "* Mira este vídeo: [Recorrido de Árboles Binarios](https://youtu.be/WCiwBrj8EQY)\n",
        "* Qué significa recorrer el árbol en:\n",
        " - preorden\n",
        " - inorden\n",
        " - postorden\n",
        "* Al BST del vídeo anterior añadele dos nodos de tu elección, de forma que continúe siendo un BST, dibujalo (poniendo en color azul claro los dos nodos nuevos) y da su recorrido en:\n",
        " - preorden\n",
        " - inorden (observa que en este caso los nodos deben quedar **ordenados** de menor a mayor)\n",
        " - postorden\n",
        "* ¿Por qué los BST son importantes en ciencias de la computación?\n",
        "* Pon un link a una página o vídeo que trate este tema en **Python**.\n",
        "* ¿Has probado el código en Python que comentas? ¿Funciona con el BST que has puesto como ejemplo?"
      ],
      "metadata": {
        "id": "KciKQEh-DIxH"
      }
    },
    {
      "cell_type": "markdown",
      "source": [
        "## Práctica 2.6\n",
        "* ¿Qué es un **camino hamiltoniano**?\n",
        "* Pon un ejemplo\n",
        "* Dibújalo\n",
        "* Resulevelo\n",
        "* ¿Qué utilidad tiene?\n",
        "* Muestra los enlaces a un par de vídeos que hablen de ello"
      ],
      "metadata": {
        "id": "Chf7cUkfaR9O"
      }
    },
    {
      "cell_type": "markdown",
      "source": [
        "## Práctica 2.7\n",
        "* Mira este vídeo:\n",
        " - [Un problema matemático de ciudades y carreteras](https://youtu.be/kwU1uIbylsM)\n",
        "* Dibuja el grafo y da tu solución"
      ],
      "metadata": {
        "id": "vJ9XxUVKcpys"
      }
    },
    {
      "cell_type": "markdown",
      "source": [
        "<img src= \"https://graphonline.ru/tmp/saved/OF/OFWbDUkwzGkxjFtx.png\" width= \"500\" />\n",
        "\n"
      ],
      "metadata": {
        "id": "bmIC1QA17pyn"
      }
    },
    {
      "cell_type": "markdown",
      "source": [
        "###Este problema nos plantea si existe la posibilidad de encontrar un **ciclo hamiltoninao** para este grafo. \n",
        "* La respuesta es que no, no es posible debido a que el grafo es bipartito, además tiene un número impar de nodos y no tiene ciclos impares.\n",
        "\n"
      ],
      "metadata": {
        "id": "Wk-Bdbnu8ZEc"
      }
    },
    {
      "cell_type": "markdown",
      "source": [
        "## Práctica 2.8\n",
        "* El problema de **los puentes de Königsberg**\n",
        "* Describe el problema\n",
        "* Muestra una imagen del grafo resultante\n",
        "* Quién fue *Euler* y qué hizo para resolver el problema"
      ],
      "metadata": {
        "id": "mWSmp60VaQRp"
      }
    },
    {
      "cell_type": "markdown",
      "source": [
        "## Práctica 2.9\n",
        "* ¿Qué son los **caminos eulerianos**?\n",
        "* ¿Qué son los **ciclos eulerianos**?\n",
        "* Da los enlaces a dos vídeos que hablen de ello\n",
        "* Dibuja un par de casos"
      ],
      "metadata": {
        "id": "_jPsX_8vhGkL"
      }
    },
    {
      "cell_type": "markdown",
      "source": [
        "* Un **camino euleriano** es un camino que pasa por todas las aristas de un grafo sin repetir ninguna, pero si que puede pasar por un mismo vértice más de una vez. Para que esto se cumpla dos de los vértices del grafo tienen que ser de grado impar, uno de ellos coincide con el vértice inicial y el otro con el vértice final.\n",
        "\n",
        "* Un **ciclo euleriano** es cuando el camino se inicia y se finaliza en el mismo vértice, recorriendo todas las aristas del grafo pero sin pasar dos veces por las misma arista. Para que se de un ciclo euleriano en un grafo todos lo vértices deben ser de grado par, ademas el vértice inicial y el final deben ser el mismo."
      ],
      "metadata": {
        "id": "HsrjgfGoIPqK"
      }
    },
    {
      "cell_type": "markdown",
      "source": [
        "* https://www.youtube.com/watch?v=w8d-4FyrbYk\n",
        "* https://www.youtube.com/watch?v=57yhBHFCb7w"
      ],
      "metadata": {
        "id": "jPmcK-btGsOD"
      }
    },
    {
      "cell_type": "markdown",
      "source": [
        "<img src= \"https://graphonline.ru/tmp/saved/uz/uzrwmCqSwFRLwBoG.png\" width= \"700\" />"
      ],
      "metadata": {
        "id": "FUTL_f17S6aw"
      }
    },
    {
      "cell_type": "markdown",
      "source": [
        "* Este grafo de arriba tiene un camino euleriano: 23426453716"
      ],
      "metadata": {
        "id": "bvN_6RUVTHDT"
      }
    },
    {
      "cell_type": "markdown",
      "source": [
        "\n",
        "\n",
        "<img src= \"https://graphonline.ru/tmp/saved/GB/GBgJbUtTYZEbWfEj.png\" width= \"300\" />\n",
        "\n",
        "\n",
        "\n"
      ],
      "metadata": {
        "id": "SSqekM7KUEYU"
      }
    },
    {
      "cell_type": "markdown",
      "source": [
        "* Este grafo de arriba tiene un ciclo euleriano: 51264357685"
      ],
      "metadata": {
        "id": "A_OtEJL_VTcY"
      }
    },
    {
      "cell_type": "markdown",
      "source": [
        "## Práctica 2.10\n",
        "* Mira estos vídeos:\n",
        " - [¿Puedes dibujarlo sin despegar el lápiz?](https://youtu.be/IZ0-xFrlvag)\n",
        " - [USA esta LÓGICA cuando NO PUEDAS con un PROBLEMA](https://youtu.be/5Ncb7eU0LkQ)\n",
        "* Caso 1: dibuja un grafo en el que si sea posible y resuélvelo\n",
        "* Caso 2: dibuja un grafo en el que no sea posible y di el motivo"
      ],
      "metadata": {
        "id": "4wcsNU_-kQM-"
      }
    }
  ]
}