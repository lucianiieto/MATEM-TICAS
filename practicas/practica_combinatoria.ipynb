{
  "nbformat": 4,
  "nbformat_minor": 0,
  "metadata": {
    "colab": {
      "provenance": [],
      "include_colab_link": true
    },
    "kernelspec": {
      "name": "python3",
      "display_name": "Python 3"
    },
    "language_info": {
      "name": "python"
    }
  },
  "cells": [
    {
      "cell_type": "markdown",
      "metadata": {
        "id": "view-in-github",
        "colab_type": "text"
      },
      "source": [
        "<a href=\"https://colab.research.google.com/github/lucianiieto/matematicas/blob/main/practicas/practica_combinatoria.ipynb\" target=\"_parent\"><img src=\"https://colab.research.google.com/assets/colab-badge.svg\" alt=\"Open In Colab\"/></a>"
      ]
    },
    {
      "cell_type": "markdown",
      "source": [
        "# Práctica 1. Combinatoria\n",
        "Resuelva los siguientes apartados de la práctica.  \n",
        "La práctica 1.1 se proporciona solucionada para que pueda servir como ejemplo.\n"
      ],
      "metadata": {
        "id": "VP-PLgSCPtPC"
      }
    },
    {
      "cell_type": "markdown",
      "source": [
        "## Práctica 1.1\n",
        "Cuatro amigos:\n",
        "* Antonio (A)\n",
        "* Begoña (B)\n",
        "* Cesar (C)\n",
        "* Diana (D)\n",
        "\n",
        "constituyen una asociación y tienen que asignar los siguientes cargos:\n",
        "* Presiente (1)\n",
        "* Vicepresidente (2)\n",
        "* Secretario (3)\n",
        "* Tesorero (4)\n",
        "\n",
        "Se pide:\n",
        "1. Escribiendo la solución en una celda de Markdown analice el caso indicando si se trata de variaciones, permutaciones o combinaciones, con o sin repetición o el caso que sea, y el motivo para clasificar el caso de esta forma.\n",
        "2. Utilizando fórmulas de $\\LaTeX$ calcule cuántos casos existen.\n",
        "3. Cree un programa en Python para calcule cuántos casos existen.\n",
        "4. Cree un programa en Python para imprimir todas las posibilidades y numérelas. Por ejemplo:\n",
        "    - 1 ABCD\n",
        "    - 2 ABDC\n",
        "    - 3 ACBD\n",
        "    - &#20; &#20; &#20; ... ... ..."
      ],
      "metadata": {
        "id": "6oyoxqfbQJDC"
      }
    },
    {
      "cell_type": "markdown",
      "source": [
        "### Solución 1.1\n",
        "* Estamos ante un caso de **permutaciones sin repetición** ya que:\n",
        " - El orden importa, no es lo mismo estar el nº1 que significa ser presidente que el nº 4 que corresponde al tesorero.\n",
        " - Intervienen todos. Son 4 amigos para 4 cargos, todos tienen cargo, lo que cambiar es el orden, esto es, el cargo que obtengan.\n",
        " - No se repiten elementos. Una persona no puede tener dos cargos simultaneamente.\n",
        "* Los casos que se obtienen con las permutaciones sin repetición son $P_{n}=n!$ que para este ejemplo son:\n",
        "\n",
        "$$P_{4}=4!=4 \\cdot 3 \\cdot 2 \\cdot 1 = 24$$"
      ],
      "metadata": {
        "id": "t5unIqR7jdZR"
      }
    },
    {
      "cell_type": "code",
      "source": [
        "import math\n",
        "p = math.factorial(4)\n",
        "print(\"Los casos son: \", p)\n",
        "print(\"Comprobación:  \", 4*3*2*1)"
      ],
      "metadata": {
        "id": "va3_l_-hmFS-",
        "outputId": "6e72d26c-8800-481b-9f78-60c8c7d44fd3",
        "colab": {
          "base_uri": "https://localhost:8080/"
        }
      },
      "execution_count": 1,
      "outputs": [
        {
          "output_type": "stream",
          "name": "stdout",
          "text": [
            "Los casos son:  24\n",
            "Comprobación:   24\n"
          ]
        }
      ]
    },
    {
      "cell_type": "markdown",
      "source": [
        "#### Método 1\n",
        "Sin usar librería."
      ],
      "metadata": {
        "id": "kOM3pEAGnh8v"
      }
    },
    {
      "cell_type": "code",
      "source": [
        "lista = ['A', 'B', 'C', 'D']\n",
        "contador = 1\n",
        "\n",
        "for i in lista:\n",
        "    for j in lista:\n",
        "        for k in lista:\n",
        "            for l in lista:\n",
        "                if i != j and i != k and i != l and j != k and j != l and k != l:\n",
        "                    print(f\"{contador:2d} →  {i+j+k+l}\")\n",
        "                    contador += 1"
      ],
      "metadata": {
        "id": "5--ZpSoJncj3",
        "outputId": "77edf2d0-4690-43d5-d8d7-db69ea0eeed9",
        "colab": {
          "base_uri": "https://localhost:8080/"
        }
      },
      "execution_count": 2,
      "outputs": [
        {
          "output_type": "stream",
          "name": "stdout",
          "text": [
            " 1 →  ABCD\n",
            " 2 →  ABDC\n",
            " 3 →  ACBD\n",
            " 4 →  ACDB\n",
            " 5 →  ADBC\n",
            " 6 →  ADCB\n",
            " 7 →  BACD\n",
            " 8 →  BADC\n",
            " 9 →  BCAD\n",
            "10 →  BCDA\n",
            "11 →  BDAC\n",
            "12 →  BDCA\n",
            "13 →  CABD\n",
            "14 →  CADB\n",
            "15 →  CBAD\n",
            "16 →  CBDA\n",
            "17 →  CDAB\n",
            "18 →  CDBA\n",
            "19 →  DABC\n",
            "20 →  DACB\n",
            "21 →  DBAC\n",
            "22 →  DBCA\n",
            "23 →  DCAB\n",
            "24 →  DCBA\n"
          ]
        }
      ]
    },
    {
      "cell_type": "markdown",
      "source": [
        "#### Método 2\n",
        "* Usamos la función `permutations` de la librería `itertools`.\n",
        "* Imprimimos todas las permutaciones de los elementos de una lista."
      ],
      "metadata": {
        "id": "2PoCD5GlnwS1"
      }
    },
    {
      "cell_type": "code",
      "source": [
        "from itertools import permutations\n",
        "\n",
        "perm = permutations(['A','B','C','D'])   # obtenemos todas las permutaciones de la lista \n",
        "\n",
        "for i in list(perm):                     # imprimimos todas las permutaciones \n",
        "    print (*i)                           # con el asterisco se muestran las listas sin corchetes ni comas"
      ],
      "metadata": {
        "id": "eKkB1gQnn6_P",
        "outputId": "3f7339df-b6eb-419b-bc81-4603ad4ae196",
        "colab": {
          "base_uri": "https://localhost:8080/"
        }
      },
      "execution_count": 1,
      "outputs": [
        {
          "output_type": "stream",
          "name": "stdout",
          "text": [
            "A B C D\n",
            "A B D C\n",
            "A C B D\n",
            "A C D B\n",
            "A D B C\n",
            "A D C B\n",
            "B A C D\n",
            "B A D C\n",
            "B C A D\n",
            "B C D A\n",
            "B D A C\n",
            "B D C A\n",
            "C A B D\n",
            "C A D B\n",
            "C B A D\n",
            "C B D A\n",
            "C D A B\n",
            "C D B A\n",
            "D A B C\n",
            "D A C B\n",
            "D B A C\n",
            "D B C A\n",
            "D C A B\n",
            "D C B A\n"
          ]
        }
      ]
    },
    {
      "cell_type": "markdown",
      "source": [
        "## Práctica 1.2\n",
        "Cuatro amigos:\n",
        "* Antonio (A)\n",
        "* Begoña (B)\n",
        "* Cesar (C)\n",
        "* Diana (D)\n",
        "\n",
        "constituyen una asociación y tienen que asignar los siguientes cargos:\n",
        "* Presiente (1)\n",
        "* Secretario (3)\n",
        "* Tesorero (4)\n",
        "\n",
        "Se pide:\n",
        "1. Escribiendo la solución en una celda de Markdown analice el caso indicando si se trata de variaciones, permutaciones o combinaciones, con o sin repetición o el caso que sea, y el motivo para clasificar el caso de esta forma.\n",
        "2. Utilizando fórmulas de $\\LaTeX$ calcule cuántos casos existen.\n",
        "3. Cree un programa en Python para calcule cuántos casos existen.\n",
        "4. Cree un programa en Python para imprimir todas las posibilidades y numérelas. Por ejemplo:\n",
        "    - 1 ABC\n",
        "    - 2 ABD\n",
        "    - 3 ACB\n",
        "    - &#20; &#20; &#20; ... ... ..."
      ],
      "metadata": {
        "id": "sxSuCpAFSBPJ"
      }
    },
    {
      "cell_type": "markdown",
      "source": [
        "### Solución 1.2"
      ],
      "metadata": {
        "id": "xx9qsw_ej9Pd"
      }
    },
    {
      "cell_type": "markdown",
      "source": [],
      "metadata": {
        "id": "qIIC3EbeJQ5S"
      }
    },
    {
      "cell_type": "markdown",
      "source": [
        "## Práctica 1.3\n",
        "Invente un caso de **variaciones sin repetición**.\n",
        "Se pide contestar a los mismos puntos que el caso anterior."
      ],
      "metadata": {
        "id": "D0S1DjF4MKmz"
      }
    },
    {
      "cell_type": "markdown",
      "source": [
        "### Solución 1.3"
      ],
      "metadata": {
        "id": "AfyuPIASj_20"
      }
    },
    {
      "cell_type": "markdown",
      "source": [
        "## Práctica 1.4\n",
        "Invente un caso de **variaciones con repetición**.\n",
        "Se pide contestar a los mismos puntos que el caso anterior."
      ],
      "metadata": {
        "id": "gvlnqCaRMTua"
      }
    },
    {
      "cell_type": "markdown",
      "source": [
        "### Solución 1.4"
      ],
      "metadata": {
        "id": "hzvsgRDbkCy1"
      }
    },
    {
      "cell_type": "markdown",
      "source": [
        "## Práctica 1.5\n",
        "Invente un caso de **permutaciones sin repetición**.\n",
        "Se pide contestar a los mismos puntos que el caso anterior."
      ],
      "metadata": {
        "id": "0OCAC-I-G5F6"
      }
    },
    {
      "cell_type": "markdown",
      "source": [
        "### Solución 1.5"
      ],
      "metadata": {
        "id": "FvLcj6XXkFOV"
      }
    },
    {
      "cell_type": "markdown",
      "source": [
        "## Práctica 1.6\n",
        "Invente un caso de **permutaciones con repetición**.\n",
        "Se pide contestar a los mismos puntos que el caso anterior."
      ],
      "metadata": {
        "id": "YWUXIczqLj3W"
      }
    },
    {
      "cell_type": "markdown",
      "source": [
        "### Solución 1.6"
      ],
      "metadata": {
        "id": "siAxWVVekHs6"
      }
    },
    {
      "cell_type": "markdown",
      "source": [
        "## Práctica 1.7\n",
        "Invente un caso de **combinaciones sin repetición**.\n",
        "Se pide contestar a los mismos puntos que el caso anterior."
      ],
      "metadata": {
        "id": "opCrIDtJGg1R"
      }
    },
    {
      "cell_type": "markdown",
      "source": [
        "### Solución 1.7"
      ],
      "metadata": {
        "id": "Zs46BsRnkJcl"
      }
    },
    {
      "cell_type": "markdown",
      "source": [
        "## Práctica 1.8\n",
        "Invente un caso de **combinaciones con repetición**.\n",
        "Se pide contestar a los mismos puntos que el caso anterior."
      ],
      "metadata": {
        "id": "-7Y5WWlDGzAR"
      }
    },
    {
      "cell_type": "markdown",
      "source": [
        "### Solución 1.8"
      ],
      "metadata": {
        "id": "ReRULqd8kL1F"
      }
    },
    {
      "cell_type": "markdown",
      "source": [
        "## Práctica 1.9\n",
        "En el gobierno se crea una unidad de crisis formada por el presidente (P) y 4 ministros (A,B,C,D) que se reúnen sentados alrededor de una **mesa redonda**.\n",
        "\n",
        "Se pide:  \n",
        "1. Calcule de cuantas formas pueden llegar a sentarse si el ministro de defensa (D) siempre ha de estar al lado del presidente (P). Escriba la solución en una celda de Markdown utilizando fórmulas en $\\LaTeX$  explicando el caso.\n",
        "2. Cree un programa en Python para calcular el número de casos que se pueden dar al sentarse en la mesa.\n",
        "3. Cree un programa en Python para imprimir todas las posibilidades y numérelas. Por ejemplo:\n",
        "    - 1 PDABC\n",
        "    - 2 PDACB\n",
        "    - 3 PDBCD\n",
        "    - 4 PDBDC\n",
        "    - 5 PDCAB\n",
        "    - 6 PDCBA\n",
        "    - 7 DPABC\n",
        "    - 8 DPACB\n",
        "    - &#20; &#20; &#20; ... ... ...\n"
      ],
      "metadata": {
        "id": "SOzxh_YgHnDG"
      }
    },
    {
      "cell_type": "markdown",
      "source": [
        "### Solución 1.9"
      ],
      "metadata": {
        "id": "F8kV034OkQZX"
      }
    },
    {
      "cell_type": "markdown",
      "source": [
        "* Estamos ante un caso de **permutación circular** ya que:\n",
        "\n",
        " - Los elementos se ordenan en círculo.\n",
        "\n",
        " - Participan todos los elementos en la ordenación. \n",
        " \n",
        " - Importa el orden, no es lo mismo que (A) se siente al lado de (B) a que se siente al lado de (C).\n",
        "\n",
        "* Los casos de las permutaciones circulares se obtienen mediante esta fórmula PCn = (n – 1)!.\n",
        "\n",
        " - En nuestro ejercicio nos dicen que (P) y (D) tienen que estar siempre sentados al lado, por lo que hay que restar un elemento, la solución sería:\n",
        "\n",
        "$$PC_{4}=(4-1)!=3!=3 \\cdot 2 \\cdot 1 = 6$$"
      ],
      "metadata": {
        "id": "HW5-rLi3cKgo"
      }
    },
    {
      "cell_type": "markdown",
      "source": [
        "## Práctica 1.10\n",
        "* Realice una breve explicación teórica del **triángulo de Pascal**, o también llamado triángulo de Tartaglia, y de las fórmulas de los números combinatorios.\n",
        "* Cree un programa en Python para hacer el triángulo de Pascal."
      ],
      "metadata": {
        "id": "eiHdMOP-MkrZ"
      }
    },
    {
      "cell_type": "markdown",
      "source": [
        "### Solución 1.10"
      ],
      "metadata": {
        "id": "j0UT2579kTSM"
      }
    }
  ]
}